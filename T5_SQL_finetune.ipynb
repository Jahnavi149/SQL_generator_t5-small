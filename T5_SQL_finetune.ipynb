{
 "cells": [
  {
   "cell_type": "code",
   "execution_count": 2,
   "id": "e17badec-64a2-4976-aebc-e3b9a9a28823",
   "metadata": {},
   "outputs": [
    {
     "name": "stdout",
     "output_type": "stream",
     "text": [
      "Defaulting to user installation because normal site-packages is not writeable\n",
      "Requirement already satisfied: torch in /Users/jahnavisuresh/Library/Python/3.9/lib/python/site-packages (2.2.0)\n",
      "Requirement already satisfied: transformers in /Users/jahnavisuresh/Library/Python/3.9/lib/python/site-packages (4.37.2)\n",
      "Requirement already satisfied: datasets in /Users/jahnavisuresh/Library/Python/3.9/lib/python/site-packages (2.16.1)\n",
      "Requirement already satisfied: filelock in /Users/jahnavisuresh/Library/Python/3.9/lib/python/site-packages (from torch) (3.13.1)\n",
      "Requirement already satisfied: typing-extensions>=4.8.0 in /Users/jahnavisuresh/Library/Python/3.9/lib/python/site-packages (from torch) (4.9.0)\n",
      "Requirement already satisfied: sympy in /Users/jahnavisuresh/Library/Python/3.9/lib/python/site-packages (from torch) (1.12)\n",
      "Requirement already satisfied: networkx in /Users/jahnavisuresh/Library/Python/3.9/lib/python/site-packages (from torch) (3.2.1)\n",
      "Requirement already satisfied: jinja2 in /Users/jahnavisuresh/Library/Python/3.9/lib/python/site-packages (from torch) (3.1.3)\n",
      "Requirement already satisfied: fsspec in /Users/jahnavisuresh/Library/Python/3.9/lib/python/site-packages (from torch) (2023.10.0)\n",
      "Requirement already satisfied: huggingface-hub<1.0,>=0.19.3 in /Users/jahnavisuresh/Library/Python/3.9/lib/python/site-packages (from transformers) (0.20.3)\n",
      "Requirement already satisfied: numpy>=1.17 in /Users/jahnavisuresh/Library/Python/3.9/lib/python/site-packages (from transformers) (1.26.3)\n",
      "Requirement already satisfied: packaging>=20.0 in /Users/jahnavisuresh/Library/Python/3.9/lib/python/site-packages (from transformers) (23.2)\n",
      "Requirement already satisfied: pyyaml>=5.1 in /Users/jahnavisuresh/Library/Python/3.9/lib/python/site-packages (from transformers) (6.0.1)\n",
      "Requirement already satisfied: regex!=2019.12.17 in /Users/jahnavisuresh/Library/Python/3.9/lib/python/site-packages (from transformers) (2023.12.25)\n",
      "Requirement already satisfied: requests in /Users/jahnavisuresh/Library/Python/3.9/lib/python/site-packages (from transformers) (2.31.0)\n",
      "Requirement already satisfied: tokenizers<0.19,>=0.14 in /Users/jahnavisuresh/Library/Python/3.9/lib/python/site-packages (from transformers) (0.15.1)\n",
      "Requirement already satisfied: safetensors>=0.4.1 in /Users/jahnavisuresh/Library/Python/3.9/lib/python/site-packages (from transformers) (0.4.2)\n",
      "Requirement already satisfied: tqdm>=4.27 in /Users/jahnavisuresh/Library/Python/3.9/lib/python/site-packages (from transformers) (4.66.1)\n",
      "Requirement already satisfied: pyarrow>=8.0.0 in /Users/jahnavisuresh/Library/Python/3.9/lib/python/site-packages (from datasets) (15.0.0)\n",
      "Requirement already satisfied: pyarrow-hotfix in /Users/jahnavisuresh/Library/Python/3.9/lib/python/site-packages (from datasets) (0.6)\n",
      "Requirement already satisfied: dill<0.3.8,>=0.3.0 in /Users/jahnavisuresh/Library/Python/3.9/lib/python/site-packages (from datasets) (0.3.7)\n",
      "Requirement already satisfied: pandas in /Users/jahnavisuresh/Library/Python/3.9/lib/python/site-packages (from datasets) (2.2.0)\n",
      "Requirement already satisfied: xxhash in /Users/jahnavisuresh/Library/Python/3.9/lib/python/site-packages (from datasets) (3.4.1)\n",
      "Requirement already satisfied: multiprocess in /Users/jahnavisuresh/Library/Python/3.9/lib/python/site-packages (from datasets) (0.70.15)\n",
      "Requirement already satisfied: aiohttp in /Users/jahnavisuresh/Library/Python/3.9/lib/python/site-packages (from datasets) (3.9.3)\n",
      "Requirement already satisfied: aiosignal>=1.1.2 in /Users/jahnavisuresh/Library/Python/3.9/lib/python/site-packages (from aiohttp->datasets) (1.3.1)\n",
      "Requirement already satisfied: attrs>=17.3.0 in /Users/jahnavisuresh/Library/Python/3.9/lib/python/site-packages (from aiohttp->datasets) (23.2.0)\n",
      "Requirement already satisfied: frozenlist>=1.1.1 in /Users/jahnavisuresh/Library/Python/3.9/lib/python/site-packages (from aiohttp->datasets) (1.4.1)\n",
      "Requirement already satisfied: multidict<7.0,>=4.5 in /Users/jahnavisuresh/Library/Python/3.9/lib/python/site-packages (from aiohttp->datasets) (6.0.5)\n",
      "Requirement already satisfied: yarl<2.0,>=1.0 in /Users/jahnavisuresh/Library/Python/3.9/lib/python/site-packages (from aiohttp->datasets) (1.9.4)\n",
      "Requirement already satisfied: async-timeout<5.0,>=4.0 in /Users/jahnavisuresh/Library/Python/3.9/lib/python/site-packages (from aiohttp->datasets) (4.0.3)\n",
      "Requirement already satisfied: charset-normalizer<4,>=2 in /Users/jahnavisuresh/Library/Python/3.9/lib/python/site-packages (from requests->transformers) (3.3.2)\n",
      "Requirement already satisfied: idna<4,>=2.5 in /Users/jahnavisuresh/Library/Python/3.9/lib/python/site-packages (from requests->transformers) (3.6)\n",
      "Requirement already satisfied: urllib3<3,>=1.21.1 in /Users/jahnavisuresh/Library/Python/3.9/lib/python/site-packages (from requests->transformers) (2.2.0)\n",
      "Requirement already satisfied: certifi>=2017.4.17 in /Users/jahnavisuresh/Library/Python/3.9/lib/python/site-packages (from requests->transformers) (2023.11.17)\n",
      "Requirement already satisfied: MarkupSafe>=2.0 in /Users/jahnavisuresh/Library/Python/3.9/lib/python/site-packages (from jinja2->torch) (2.1.4)\n",
      "Requirement already satisfied: python-dateutil>=2.8.2 in /Users/jahnavisuresh/Library/Python/3.9/lib/python/site-packages (from pandas->datasets) (2.8.2)\n",
      "Requirement already satisfied: pytz>=2020.1 in /Users/jahnavisuresh/Library/Python/3.9/lib/python/site-packages (from pandas->datasets) (2024.1)\n",
      "Requirement already satisfied: tzdata>=2022.7 in /Users/jahnavisuresh/Library/Python/3.9/lib/python/site-packages (from pandas->datasets) (2023.4)\n",
      "Requirement already satisfied: mpmath>=0.19 in /Users/jahnavisuresh/Library/Python/3.9/lib/python/site-packages (from sympy->torch) (1.3.0)\n",
      "Requirement already satisfied: six>=1.5 in /Applications/Xcode.app/Contents/Developer/Library/Frameworks/Python3.framework/Versions/3.9/lib/python3.9/site-packages (from python-dateutil>=2.8.2->pandas->datasets) (1.15.0)\n"
     ]
    }
   ],
   "source": [
    "!pip3 install torch transformers datasets"
   ]
  },
  {
   "cell_type": "code",
   "execution_count": 3,
   "id": "f501ef1a-200c-4ac2-8ebc-86a9303feb32",
   "metadata": {},
   "outputs": [
    {
     "name": "stderr",
     "output_type": "stream",
     "text": [
      "/Users/jahnavisuresh/Library/Python/3.9/lib/python/site-packages/urllib3/__init__.py:35: NotOpenSSLWarning: urllib3 v2 only supports OpenSSL 1.1.1+, currently the 'ssl' module is compiled with 'LibreSSL 2.8.3'. See: https://github.com/urllib3/urllib3/issues/3020\n",
      "  warnings.warn(\n",
      "/Users/jahnavisuresh/Library/Python/3.9/lib/python/site-packages/bitsandbytes/cextension.py:34: UserWarning: The installed version of bitsandbytes was compiled without GPU support. 8-bit optimizers, 8-bit multiplication, and GPU quantization are unavailable.\n",
      "  warn(\"The installed version of bitsandbytes was compiled without GPU support. \"\n"
     ]
    },
    {
     "name": "stdout",
     "output_type": "stream",
     "text": [
      "'NoneType' object has no attribute 'cadam32bit_grad_fp32'\n"
     ]
    }
   ],
   "source": [
    "from transformers import T5ForConditionalGeneration, T5Tokenizer, AdamW\n",
    "from torch.utils.data import DataLoader, Dataset\n",
    "from datasets import load_dataset\n",
    "from torch.nn.utils.rnn import pad_sequence"
   ]
  },
  {
   "cell_type": "code",
   "execution_count": 4,
   "id": "b1b86f3d-12eb-42ff-b4b1-6b7d1691fbd4",
   "metadata": {},
   "outputs": [
    {
     "data": {
      "application/vnd.jupyter.widget-view+json": {
       "model_id": "b078135101f747c7b60087831eb6e6de",
       "version_major": 2,
       "version_minor": 0
      },
      "text/plain": [
       "Downloading readme:   0%|          | 0.00/4.84k [00:00<?, ?B/s]"
      ]
     },
     "metadata": {},
     "output_type": "display_data"
    },
    {
     "data": {
      "application/vnd.jupyter.widget-view+json": {
       "model_id": "b6c7a0721acd4c0c8dbc342db6c9af75",
       "version_major": 2,
       "version_minor": 0
      },
      "text/plain": [
       "Downloading data:   0%|          | 0.00/831k [00:00<?, ?B/s]"
      ]
     },
     "metadata": {},
     "output_type": "display_data"
    },
    {
     "data": {
      "application/vnd.jupyter.widget-view+json": {
       "model_id": "6836227bd1fb4c158ebc59c7c2e92a87",
       "version_major": 2,
       "version_minor": 0
      },
      "text/plain": [
       "Downloading data:   0%|          | 0.00/126k [00:00<?, ?B/s]"
      ]
     },
     "metadata": {},
     "output_type": "display_data"
    },
    {
     "data": {
      "application/vnd.jupyter.widget-view+json": {
       "model_id": "e74bd3ad38dd47ba87f111ff919497c4",
       "version_major": 2,
       "version_minor": 0
      },
      "text/plain": [
       "Generating train split:   0%|          | 0/7000 [00:00<?, ? examples/s]"
      ]
     },
     "metadata": {},
     "output_type": "display_data"
    },
    {
     "data": {
      "application/vnd.jupyter.widget-view+json": {
       "model_id": "3dd1e78b8b8d46ce8fd8aebd4166b13c",
       "version_major": 2,
       "version_minor": 0
      },
      "text/plain": [
       "Generating validation split:   0%|          | 0/1034 [00:00<?, ? examples/s]"
      ]
     },
     "metadata": {},
     "output_type": "display_data"
    }
   ],
   "source": [
    "dataset = load_dataset(\"spider\")"
   ]
  },
  {
   "cell_type": "code",
   "execution_count": 5,
   "id": "d20b234b-4034-4105-b57a-530e36c3c01c",
   "metadata": {},
   "outputs": [
    {
     "data": {
      "application/vnd.jupyter.widget-view+json": {
       "model_id": "e0dc9f8697b84f808123344d1713f6a1",
       "version_major": 2,
       "version_minor": 0
      },
      "text/plain": [
       "tokenizer_config.json:   0%|          | 0.00/2.32k [00:00<?, ?B/s]"
      ]
     },
     "metadata": {},
     "output_type": "display_data"
    },
    {
     "data": {
      "application/vnd.jupyter.widget-view+json": {
       "model_id": "f9408287137d420b958ad0b28eb4af4a",
       "version_major": 2,
       "version_minor": 0
      },
      "text/plain": [
       "spiece.model:   0%|          | 0.00/792k [00:00<?, ?B/s]"
      ]
     },
     "metadata": {},
     "output_type": "display_data"
    },
    {
     "data": {
      "application/vnd.jupyter.widget-view+json": {
       "model_id": "287dc043fe404a17ad4b1602ea1654b9",
       "version_major": 2,
       "version_minor": 0
      },
      "text/plain": [
       "tokenizer.json:   0%|          | 0.00/1.39M [00:00<?, ?B/s]"
      ]
     },
     "metadata": {},
     "output_type": "display_data"
    },
    {
     "name": "stderr",
     "output_type": "stream",
     "text": [
      "You are using the default legacy behaviour of the <class 'transformers.models.t5.tokenization_t5.T5Tokenizer'>. This is expected, and simply means that the `legacy` (previous) behavior will be used so nothing changes for you. If you want to use the new behaviour, set `legacy=False`. This should only be set if you understand what it means, and thoroughly read the reason why this was added as explained in https://github.com/huggingface/transformers/pull/24565\n",
      "Special tokens have been added in the vocabulary, make sure the associated word embeddings are fine-tuned or trained.\n"
     ]
    },
    {
     "data": {
      "application/vnd.jupyter.widget-view+json": {
       "model_id": "0d893afe8fa94353b11bee26c233f292",
       "version_major": 2,
       "version_minor": 0
      },
      "text/plain": [
       "config.json:   0%|          | 0.00/1.21k [00:00<?, ?B/s]"
      ]
     },
     "metadata": {},
     "output_type": "display_data"
    },
    {
     "data": {
      "application/vnd.jupyter.widget-view+json": {
       "model_id": "25030c855d434275900013596ba4e205",
       "version_major": 2,
       "version_minor": 0
      },
      "text/plain": [
       "model.safetensors:   0%|          | 0.00/242M [00:00<?, ?B/s]"
      ]
     },
     "metadata": {},
     "output_type": "display_data"
    },
    {
     "data": {
      "application/vnd.jupyter.widget-view+json": {
       "model_id": "889755a923e240d4be00ec22db6efd05",
       "version_major": 2,
       "version_minor": 0
      },
      "text/plain": [
       "generation_config.json:   0%|          | 0.00/147 [00:00<?, ?B/s]"
      ]
     },
     "metadata": {},
     "output_type": "display_data"
    }
   ],
   "source": [
    "model_name = \"t5-small\"\n",
    "tokenizer = T5Tokenizer.from_pretrained(model_name)\n",
    "model = T5ForConditionalGeneration.from_pretrained(model_name)"
   ]
  },
  {
   "cell_type": "code",
   "execution_count": 6,
   "id": "d36fe963-9005-471c-96c5-dd66650c3a58",
   "metadata": {},
   "outputs": [],
   "source": [
    "class SQLDataset(Dataset):\n",
    "    def __init__(self, examples):\n",
    "        self.examples = examples\n",
    "\n",
    "    def __len__(self):\n",
    "        return len(self.examples)\n",
    "\n",
    "    def __getitem__(self, idx):\n",
    "        source_text = f\"generate SQL command: {self.examples['question'][idx]}\"\n",
    "        target_text = self.examples['query'][idx]\n",
    "\n",
    "        source_tokens = tokenizer(source_text, truncation=True, return_tensors=\"pt\")['input_ids'][0]\n",
    "        target_tokens = tokenizer(target_text, truncation=True, return_tensors=\"pt\")['input_ids'][0]\n",
    "\n",
    "        return {\"input_ids\": source_tokens, \"labels\": target_tokens}\n",
    "\n",
    "def collate_fn(batch):\n",
    "    inputs = pad_sequence([item[\"input_ids\"] for item in batch], batch_first=True, padding_value=tokenizer.pad_token_id)\n",
    "    labels = pad_sequence([item[\"labels\"] for item in batch], batch_first=True, padding_value=tokenizer.pad_token_id)\n",
    "    max_length = max(inputs.size(1), labels.size(1))\n",
    "    inputs = torch.nn.functional.pad(inputs, (0, max_length - inputs.size(1)))\n",
    "    labels = torch.nn.functional.pad(labels, (0, max_length - labels.size(1)))\n",
    "    return {\"input_ids\": inputs, \"labels\": labels}"
   ]
  },
  {
   "cell_type": "code",
   "execution_count": 7,
   "id": "c6c91d1f-aecf-4b42-a903-903ffaa246cf",
   "metadata": {},
   "outputs": [],
   "source": [
    "train_dataset = SQLDataset(dataset[\"train\"])\n",
    "validation_dataset = SQLDataset(dataset[\"validation\"])"
   ]
  },
  {
   "cell_type": "code",
   "execution_count": 8,
   "id": "23640adf-e1f7-4a39-aaea-e72017ad8da5",
   "metadata": {},
   "outputs": [],
   "source": [
    "train_dataloader = DataLoader(train_dataset, batch_size=4, shuffle=True, collate_fn=collate_fn)"
   ]
  },
  {
   "cell_type": "code",
   "execution_count": 48,
   "id": "e2abc06d-42b2-4960-8a84-cfa68fd74856",
   "metadata": {},
   "outputs": [],
   "source": [
    "num_epochs = 20\n",
    "learning_rate = 2e-5\n",
    "optimizer = AdamW(model.parameters(), lr=learning_rate)"
   ]
  },
  {
   "cell_type": "code",
   "execution_count": 49,
   "id": "14a2a0fd-6e50-4bba-8564-d3527da60d68",
   "metadata": {},
   "outputs": [
    {
     "name": "stdout",
     "output_type": "stream",
     "text": [
      "Epoch 1/20, Average Loss: 0.6862480348859514\n",
      "Epoch 2/20, Average Loss: 0.6147596886754036\n",
      "Epoch 3/20, Average Loss: 0.5597205617427826\n",
      "Epoch 4/20, Average Loss: 0.5167337958131518\n",
      "Epoch 5/20, Average Loss: 0.4801048256414277\n",
      "Epoch 6/20, Average Loss: 0.45454782849550246\n",
      "Epoch 7/20, Average Loss: 0.42383134664808003\n",
      "Epoch 8/20, Average Loss: 0.40484655922225543\n",
      "Epoch 9/20, Average Loss: 0.38503022661805153\n",
      "Epoch 10/20, Average Loss: 0.36383310897009713\n",
      "Epoch 11/20, Average Loss: 0.3512051869588239\n",
      "Epoch 12/20, Average Loss: 0.3372640271782875\n",
      "Epoch 13/20, Average Loss: 0.32277861030612676\n",
      "Epoch 14/20, Average Loss: 0.3111431175087179\n",
      "Epoch 15/20, Average Loss: 0.29837157737995895\n",
      "Epoch 16/20, Average Loss: 0.2889571975554739\n",
      "Epoch 17/20, Average Loss: 0.27941734197310036\n",
      "Epoch 18/20, Average Loss: 0.2678367601994957\n",
      "Epoch 19/20, Average Loss: 0.26103652819139617\n",
      "Epoch 20/20, Average Loss: 0.25089518458076887\n"
     ]
    }
   ],
   "source": [
    "import torch\n",
    "for epoch in range(num_epochs):\n",
    "    model.train()\n",
    "    total_loss = 0\n",
    "    for batch in train_dataloader:\n",
    "        inputs = batch[\"input_ids\"]\n",
    "        labels = batch[\"labels\"]\n",
    "        outputs = model(inputs, labels=labels)\n",
    "        loss = outputs.loss\n",
    "        total_loss += loss.item()\n",
    "\n",
    "        # Backward pass and optimization\n",
    "        optimizer.zero_grad()\n",
    "        loss.backward()\n",
    "        optimizer.step()\n",
    "\n",
    "    average_loss = total_loss / len(train_dataloader)\n",
    "    print(f\"Epoch {epoch + 1}/{num_epochs}, Average Loss: {average_loss}\")"
   ]
  },
  {
   "cell_type": "code",
   "execution_count": 50,
   "id": "93213f03-3eb5-4cc0-a2a7-ce9d57a8e4b6",
   "metadata": {},
   "outputs": [],
   "source": [
    "model.save_pretrained(\"fine_tuned_sql_model\")"
   ]
  },
  {
   "cell_type": "code",
   "execution_count": 56,
   "id": "d44458e8-dee0-459d-8ddf-47044aced3ad",
   "metadata": {},
   "outputs": [
    {
     "name": "stdout",
     "output_type": "stream",
     "text": [
      "Input Text: generate SQL command: What is the average salary of employees?\n",
      "Generated SQL: SELECT avg(Salary) FROM Employees\n"
     ]
    }
   ],
   "source": [
    "input_text = \"generate SQL command: What is the average salary of employees?\"\n",
    "input_ids = tokenizer(input_text, return_tensors=\"pt\")[\"input_ids\"]\n",
    "output = model.generate(input_ids,max_length=75)\n",
    "generated_sql = tokenizer.decode(output[0], skip_special_tokens=True)\n",
    "\n",
    "print(\"Input Text:\", input_text)\n",
    "print(\"Generated SQL:\", generated_sql)"
   ]
  }
 ],
 "metadata": {
  "kernelspec": {
   "display_name": "Python 3 (ipykernel)",
   "language": "python",
   "name": "python3"
  },
  "language_info": {
   "codemirror_mode": {
    "name": "ipython",
    "version": 3
   },
   "file_extension": ".py",
   "mimetype": "text/x-python",
   "name": "python",
   "nbconvert_exporter": "python",
   "pygments_lexer": "ipython3",
   "version": "3.9.6"
  }
 },
 "nbformat": 4,
 "nbformat_minor": 5
}
